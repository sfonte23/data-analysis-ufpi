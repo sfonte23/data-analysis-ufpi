{
 "cells": [
  {
   "cell_type": "markdown",
   "metadata": {},
   "source": [
    "### Disciplina de Análise de Dados    \n",
    "### Curso de Gestão de Dados\n",
    "### Universidade Federal do Piauí\n",
    "##### Prof. Arlino Magalhães\n",
    "arlino@ufpi.edu.br | @arlino.magalhaes\n",
    "\n",
    "\n",
    "# Revisão de Python\n",
    "\n",
    "Referência: Grus, Joel. Data Science do Zero. Capítulo 2. Disponível em: Minha Biblioteca, Editora Alta Books, 2021. \n",
    "| Link da Minha Biblioteca: https://integrada.minhabiblioteca.com.br/books/9788550816463"
   ]
  },
  {
   "cell_type": "markdown",
   "metadata": {},
   "source": [
    "### Exceções\n",
    "\n",
    "Erros podem ser tratados através de exceções com o objetivo de não causar falhas \n",
    "durante a execução do programa."
   ]
  },
  {
   "cell_type": "code",
   "execution_count": 1,
   "metadata": {},
   "outputs": [
    {
     "name": "stdout",
     "output_type": "stream",
     "text": [
      "cannot divide by zero\n"
     ]
    }
   ],
   "source": [
    "try:\n",
    "    print(0 / 0)\n",
    "except ZeroDivisionError: print(\"cannot divide by zero\")"
   ]
  },
  {
   "cell_type": "markdown",
   "metadata": {},
   "source": [
    "### Listas\n",
    "\n",
    "Uma lista é uma coleção de dados, parecida com um *array*."
   ]
  },
  {
   "cell_type": "code",
   "execution_count": 2,
   "metadata": {},
   "outputs": [
    {
     "name": "stdout",
     "output_type": "stream",
     "text": [
      "integer_list ==  [1, 2, 3]\n",
      "heterogeneous_list ==  ['string', 0.1, True]\n",
      "list_of_lists ==  [[1, 2, 3], ['string', 0.1, True], []]\n"
     ]
    }
   ],
   "source": [
    "integer_list = [1, 2, 3]\n",
    "heterogeneous_list = [\"string\", 0.1, True]\n",
    "list_of_lists = [integer_list, heterogeneous_list, []]\n",
    "\n",
    "print(\"integer_list == \", integer_list)\n",
    "print(\"heterogeneous_list == \", heterogeneous_list)\n",
    "print(\"list_of_lists == \", list_of_lists)"
   ]
  },
  {
   "cell_type": "code",
   "execution_count": null,
   "metadata": {},
   "outputs": [],
   "source": [
    "# Recupera o tamanho de um lista\n",
    "list_length = len(integer_list)\n",
    "\n",
    "# Recupera o somatório dos elementos de uma lista\n",
    "list_sum = sum(integer_list)\n",
    "\n",
    "print(\"len(integer_list) == \", list_length)\n",
    "print(\"sum(integer_list) == \", list_sum)"
   ]
  },
  {
   "cell_type": "code",
   "execution_count": null,
   "metadata": {},
   "outputs": [],
   "source": [
    "x = [0, 1, 2, 3, 4, 5, 6, 7, 8, 9]\n",
    "\n",
    "# Elmento de índice O (primeiro elemento)\n",
    "zero = x[0]\n",
    "\n",
    "# Elmento de índice 1\n",
    "one = x[1]\n",
    "\n",
    "# Pythonico (pythonic) para o último elemento\n",
    "nine = x[-1]\n",
    "\n",
    "# Pythonico para o penúltimo elemento\n",
    "eight = x[-2]\n",
    "\n",
    "print(\"x[0] == \", zero)\n",
    "print(\"x[1] == \", one)\n",
    "print(\"x[-1] == \", nine)\n",
    "print(\"x[-2] == \", eight)"
   ]
  },
  {
   "cell_type": "code",
   "execution_count": null,
   "metadata": {},
   "outputs": [],
   "source": [
    "# Recupera os três primeiros elementos\n",
    "first_three = x[:3]\n",
    "\n",
    "# Recupera os elementos após o terceiro elemento\n",
    "three_to_end = x[3:] # [3, 4, ..., 9]\n",
    "\n",
    "# Recupera os elementos após o primeiro elemento e antes do quinto\n",
    "one_to_four = x[1:5] # [1, 2, 3, 4]\n",
    "\n",
    "# Recupera o últimos tês elementos\n",
    "last_three = x[-3:] # [7, 8, 9]\n",
    "\n",
    "print(\"x[:3] == \", first_three)\n",
    "print(\"x[3:] == \", three_to_end)\n",
    "print(\"x[1:5] == \", one_to_four)\n",
    "print(\"x[-3:] == \", last_three)"
   ]
  },
  {
   "cell_type": "code",
   "execution_count": null,
   "metadata": {},
   "outputs": [],
   "source": [
    "# IN verifica se um elemento está em uma lista\n",
    "1 in [1, 2, 3] # Verdadeiro\n",
    "0 in [1, 2, 3] # Falso\n",
    "\n",
    "print(\"1 in [1, 2, 3] == \", 1 in [1, 2, 3])\n",
    "print(\"0 in [1, 2, 3] == \", 6 in [1, 2, 3])"
   ]
  },
  {
   "cell_type": "code",
   "execution_count": null,
   "metadata": {},
   "outputs": [],
   "source": [
    "# Concatena listas\n",
    "x.extend([10, 11, 12])\n",
    "\n",
    "x"
   ]
  },
  {
   "cell_type": "code",
   "execution_count": null,
   "metadata": {},
   "outputs": [],
   "source": [
    "# Concatena listas\n",
    "x = x + [13, 14, 15]\n",
    "\n",
    "x"
   ]
  },
  {
   "cell_type": "code",
   "execution_count": null,
   "metadata": {},
   "outputs": [],
   "source": [
    "# Ordena listas\n",
    "x = [4, 1, 2, 3]\n",
    "\n",
    "y = sorted(x) # y é [1, 2, 3, 4], x não mudou\n",
    "x.sort() # agora x é [1, 2, 3, 4]\n",
    "\n",
    "print(\"y == \", y)\n",
    "print(\"x == \", x)"
   ]
  },
  {
   "cell_type": "markdown",
   "metadata": {},
   "source": [
    "### Tuplas\n",
    "\n",
    "As tuplas são muito parecidas com as listas, mas não podem ser modificadas. "
   ]
  },
  {
   "cell_type": "code",
   "execution_count": null,
   "metadata": {},
   "outputs": [],
   "source": [
    "my_tuple = (1, 2)\n",
    "other_tuple = 3, 4\n",
    "print(\"my_tuple = \", my_tuple)\n",
    "print(\"other_tuple = \", other_tuple)\n",
    "\n",
    "try:\n",
    "    my_tuple[1] = 3\n",
    "except TypeError: print(\"cannot modify a tuple\")"
   ]
  },
  {
   "cell_type": "markdown",
   "metadata": {},
   "source": [
    "As tuplas são uma forma eficaz de usar funções para retornar múltiplos valores:"
   ]
  },
  {
   "cell_type": "code",
   "execution_count": null,
   "metadata": {},
   "outputs": [],
   "source": [
    "def sum_and_product(x, y): \n",
    "    return (x + y), (x * y)\n",
    "\n",
    "sp = sum_and_product(2, 3)\n",
    "s, p = sum_and_product(2, 3)\n",
    "\n",
    "print(\"Soma e produto = \", sp)\n",
    "print(\"Soma = \", s, \", Produto = \", p)"
   ]
  },
  {
   "cell_type": "markdown",
   "metadata": {},
   "source": [
    "### Dicionários\n",
    "\n",
    "O dicionário (dict) associa valores a chaves e permite a rápida recuperação do valor \n",
    "correspondente a uma determinada chave."
   ]
  },
  {
   "cell_type": "code",
   "execution_count": null,
   "metadata": {},
   "outputs": [],
   "source": [
    "empty_dict = {}\n",
    "empty_dict2 = dict()\n",
    "grades = {\"Joel\": 80, \"Tim\": 95}\n",
    "joels_grade = grades[\"Joel\"]\n",
    "\n",
    "print(\"empty_dict = \", empty_dict)\n",
    "print(\"empty_dict2 = \", empty_dict2)\n",
    "print(\"grades = \", grades)\n",
    "print(\"Joel = \", joels_grade)"
   ]
  },
  {
   "cell_type": "code",
   "execution_count": null,
   "metadata": {},
   "outputs": [],
   "source": [
    "# Buscar uma chave inexistente gera um KeyError\n",
    "try:\n",
    "    kates_grade = grades[\"Kate\"] \n",
    "except KeyError: print(\"no grade for Kate!\")"
   ]
  },
  {
   "cell_type": "code",
   "execution_count": null,
   "metadata": {},
   "outputs": [],
   "source": [
    "joel_has_grade = \"Joel\" in grades # Verdadeiro\n",
    "kate_has_grade = \"Kate\" in grades # Falso\n",
    "\n",
    "print(\"\\\"Joel\\\" in grades = \", joel_has_grade)\n",
    "print(\"\\\"Kate\\\" in grades = \", kate_has_grade)"
   ]
  },
  {
   "cell_type": "code",
   "execution_count": null,
   "metadata": {},
   "outputs": [],
   "source": [
    "# O método get retorna um valor padrão (em vez de gerar uma exceção) quando\n",
    "# uma chave inexistente é buscada.\n",
    "\n",
    "joels_grade = grades.get(\"Joel\", 0)\n",
    "kates_grade = grades.get(\"Kate\", 0)\n",
    "no_ones_grade = grades.get(\"No One\")\n",
    "\n",
    "print(\"Joel = \", joels_grade)\n",
    "print(\"Kate = \", kates_grade)\n",
    "print(\"No One = \", no_ones_grade)"
   ]
  },
  {
   "cell_type": "code",
   "execution_count": null,
   "metadata": {},
   "outputs": [],
   "source": [
    "print(\"antes = \", grades)\n",
    "\n",
    "grades[\"Tim\"] = 99\n",
    "grades[\"Kate\"] = 100\n",
    "\n",
    "print(\"depois = \", grades)"
   ]
  },
  {
   "cell_type": "code",
   "execution_count": null,
   "metadata": {},
   "outputs": [],
   "source": [
    "num_students = len(grades)\n",
    "\n",
    "num_students"
   ]
  },
  {
   "cell_type": "code",
   "execution_count": null,
   "metadata": {},
   "outputs": [],
   "source": [
    "tweet = {\n",
    "    \"user\" : \"joelgrus\",\n",
    "    \"text\" : \"Data Science is Awesome\", \n",
    "    \"retweet_count\" : 100,\n",
    "    \"hashtags\" : [\"#data\", \"#science\", \"#datascience\", \"#awesome\", \"#yolo\"]\n",
    "}\n",
    "\n",
    "tweet"
   ]
  },
  {
   "cell_type": "code",
   "execution_count": null,
   "metadata": {},
   "outputs": [],
   "source": [
    "tweet_keys = tweet.keys() # iterável para as chaves\n",
    "tweet_values = tweet.values() # iterável para os valores\n",
    "tweet_items = tweet.items() # iterável para as tuplas (chave, valor)\n",
    "\n",
    "print(tweet_keys)\n",
    "print(tweet_values)\n",
    "print(tweet_items)"
   ]
  },
  {
   "cell_type": "code",
   "execution_count": null,
   "metadata": {},
   "outputs": [],
   "source": [
    "\"user\" in tweet_keys\n",
    "\"user\" in tweet \n",
    "\"joelgrus\" in tweet_values\n",
    "\n",
    "print(\"\\\"user\\\" in tweet_keys ==\", \"user\" in tweet_keys)\n",
    "print(\"\\\"user\\\" in tweet ==\", \"user\" in tweet)\n",
    "print(\"\\\"joelgrus\\\" in tweet_values ==\", \"joelgrus\" in tweet_values)"
   ]
  },
  {
   "cell_type": "markdown",
   "metadata": {},
   "source": [
    "### Contadores\n",
    "\n",
    "O Counter (contador) conta a quantidade de cada elemento em um lista"
   ]
  },
  {
   "cell_type": "code",
   "execution_count": null,
   "metadata": {},
   "outputs": [],
   "source": [
    "from collections import Counter\n",
    "\n",
    "list_counts = Counter([0, 1, 2, 2, 0, 0, 0])\n",
    "\n",
    "list_counts"
   ]
  },
  {
   "cell_type": "markdown",
   "metadata": {},
   "source": [
    "### Conjuntos\n",
    "\n",
    "O set (conjunto) é uma coleção de elementos distintos."
   ]
  },
  {
   "cell_type": "code",
   "execution_count": null,
   "metadata": {},
   "outputs": [],
   "source": [
    "primes_below_10 = {2, 3, 5, 7}\n",
    "\n",
    "primes_below_10"
   ]
  },
  {
   "cell_type": "code",
   "execution_count": null,
   "metadata": {},
   "outputs": [],
   "source": [
    "# Criando um conjunto e adicionado valores\n",
    "\n",
    "s = set() # s está vazio\n",
    "s.add(1) # s agora é {1}\n",
    "s.add(2) # s agora é {1, 2}\n",
    "s.add(2) # s ainda é {1, 2}\n",
    "\n",
    "# Verificando a existência de valores\n",
    "y = 2 in s # Verdadeiro\n",
    "y = 3 in s # Falso"
   ]
  },
  {
   "cell_type": "code",
   "execution_count": null,
   "metadata": {},
   "outputs": [],
   "source": [
    "# Converte uma lista para um conjunto\n",
    "list_to_set = set([0, 1, 2, 2, 3, 3, 3, 4, 4, 4, 4])\n",
    "\n",
    "list_to_set"
   ]
  },
  {
   "cell_type": "markdown",
   "metadata": {},
   "source": [
    "### Testes Automatizados e asserção\n",
    "\n",
    "Assert pode conferir se um código está correto."
   ]
  },
  {
   "cell_type": "code",
   "execution_count": null,
   "metadata": {},
   "outputs": [],
   "source": [
    "assert 1 + 1 == 2\n",
    "\n",
    "assert 1 + 1 == 2, \"1 + 1 não é igual 2\""
   ]
  },
  {
   "cell_type": "code",
   "execution_count": null,
   "metadata": {},
   "outputs": [],
   "source": [
    "assert 1 + 1 == 3, \"1 + 1 não é igual 2\""
   ]
  },
  {
   "cell_type": "markdown",
   "metadata": {},
   "source": [
    "### Expressões Regulares\n",
    "\n",
    "As expressões regulares são uma forma de procurar textos através de padrões definidos."
   ]
  },
  {
   "cell_type": "code",
   "execution_count": null,
   "metadata": {},
   "outputs": [],
   "source": [
    "import re\n",
    "\n",
    "p = re.compile('[a-c]+')\n",
    "p"
   ]
  },
  {
   "cell_type": "code",
   "execution_count": null,
   "metadata": {},
   "outputs": [],
   "source": [
    "lista = [ 'www.google.com', 'https://www.google.com', 'google.com.br' ]\n",
    "# Verifica textos que comecem com \"www\"\n",
    "for string in lista:\n",
    "     print(re.search(\"^www\", string))"
   ]
  },
  {
   "cell_type": "markdown",
   "metadata": {},
   "source": [
    "#### RegEx básico em Python\n",
    "\n",
    "Veja mais informações de como usar RegEx no link abaixo.\n",
    "\n",
    "https://medium.com/pyladiesbh/regex-básico-em-python-31dcb7fac046"
   ]
  }
 ],
 "metadata": {
  "kernelspec": {
   "display_name": "Python 3",
   "language": "python",
   "name": "python3"
  },
  "language_info": {
   "codemirror_mode": {
    "name": "ipython",
    "version": 3
   },
   "file_extension": ".py",
   "mimetype": "text/x-python",
   "name": "python",
   "nbconvert_exporter": "python",
   "pygments_lexer": "ipython3",
   "version": "3.7.3"
  }
 },
 "nbformat": 4,
 "nbformat_minor": 2
}
